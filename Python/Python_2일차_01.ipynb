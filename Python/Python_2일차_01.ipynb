{
  "nbformat": 4,
  "nbformat_minor": 0,
  "metadata": {
    "colab": {
      "provenance": [],
      "authorship_tag": "ABX9TyNb/FaAOq/YnDKuWqT36xbw",
      "include_colab_link": true
    },
    "kernelspec": {
      "name": "python3",
      "display_name": "Python 3"
    },
    "language_info": {
      "name": "python"
    }
  },
  "cells": [
    {
      "cell_type": "markdown",
      "metadata": {
        "id": "view-in-github",
        "colab_type": "text"
      },
      "source": [
        "<a href=\"https://colab.research.google.com/github/aooe120-maker/-/blob/main/Python_2%EC%9D%BC%EC%B0%A8_01.ipynb\" target=\"_parent\"><img src=\"https://colab.research.google.com/assets/colab-badge.svg\" alt=\"Open In Colab\"/></a>"
      ]
    },
    {
      "cell_type": "code",
      "execution_count": null,
      "metadata": {
        "colab": {
          "base_uri": "https://localhost:8080/"
        },
        "id": "n4OQCmEQ9e3Q",
        "outputId": "9f2699db-b3e7-4066-8455-4f48c35f1528"
      },
      "outputs": [
        {
          "output_type": "stream",
          "name": "stdout",
          "text": [
            "진짜안보임?\n"
          ]
        }
      ],
      "source": [
        "# 주석은 이렇게 하는거다\n",
        "print(\"진짜안보이나\")\n",
        "# print(\"신기하네\")"
      ]
    },
    {
      "cell_type": "code",
      "source": [
        "print(\"진짜안보이나\")\n",
        "# print(\"신기하네\")"
      ],
      "metadata": {
        "colab": {
          "base_uri": "https://localhost:8080/"
        },
        "id": "bHol9sD6-SSM",
        "outputId": "c1540cfc-8100-4ba4-bfc2-f897c394cdac"
      },
      "execution_count": null,
      "outputs": [
        {
          "output_type": "stream",
          "name": "stdout",
          "text": [
            "진짜안보임?\n"
          ]
        }
      ]
    },
    {
      "cell_type": "code",
      "source": [],
      "metadata": {
        "id": "Y0KsCw2u-pPd"
      },
      "execution_count": null,
      "outputs": []
    },
    {
      "cell_type": "markdown",
      "source": [
        "##사칙연산\n",
        "\n",
        "더하기 : +\n",
        "빼기 : -\n",
        "곱하기 : *\n",
        "나누기 :\n",
        "\n",
        "\n",
        "*/ : 우리가 알고있는 나누기\n",
        "*// :몫을 반환 (5/2=2)\n",
        "*% :나머지를 반환 (5/2=1)\n",
        "\n",
        "거듭제곱 :**\n",
        "\n"
      ],
      "metadata": {
        "id": "nPB0HCoZANw0"
      }
    },
    {
      "cell_type": "code",
      "source": [
        "# 더하기\n",
        "print(3+2)"
      ],
      "metadata": {
        "colab": {
          "base_uri": "https://localhost:8080/"
        },
        "id": "obkg8tqR94JT",
        "outputId": "d62a3fc3-106e-44df-b776-0bd3ba4baf4f"
      },
      "execution_count": null,
      "outputs": [
        {
          "output_type": "stream",
          "name": "stdout",
          "text": [
            "5\n"
          ]
        }
      ]
    },
    {
      "cell_type": "code",
      "source": [
        "# 빼기\n",
        "print(3-1)"
      ],
      "metadata": {
        "colab": {
          "base_uri": "https://localhost:8080/"
        },
        "id": "y4hz04wOAzGT",
        "outputId": "89f822a9-9c9e-4012-89f0-3cc68a720293"
      },
      "execution_count": null,
      "outputs": [
        {
          "output_type": "stream",
          "name": "stdout",
          "text": [
            "2\n"
          ]
        }
      ]
    },
    {
      "cell_type": "code",
      "source": [
        "# 곱하기\n",
        "print(3*2)"
      ],
      "metadata": {
        "colab": {
          "base_uri": "https://localhost:8080/"
        },
        "id": "EPFpGgilA6r7",
        "outputId": "aab47774-c443-488b-e3e8-d8ddab761185"
      },
      "execution_count": null,
      "outputs": [
        {
          "output_type": "stream",
          "name": "stdout",
          "text": [
            "6\n"
          ]
        }
      ]
    },
    {
      "cell_type": "code",
      "source": [
        "# /\n",
        "print(7/2)\n",
        "\n",
        "# //\n",
        "print(7//2)\n",
        "\n",
        "# ///\n",
        "print(7%2)"
      ],
      "metadata": {
        "colab": {
          "base_uri": "https://localhost:8080/"
        },
        "id": "qaVA51FxBKpF",
        "outputId": "d1fd2310-c832-4281-a0cd-7b6b92cbc1e3"
      },
      "execution_count": null,
      "outputs": [
        {
          "output_type": "stream",
          "name": "stdout",
          "text": [
            "3.5\n",
            "3\n",
            "1\n"
          ]
        }
      ]
    },
    {
      "cell_type": "markdown",
      "source": [
        "내장함수 : divmod\n",
        "\n",
        ">자주 사용하는 기능을 미리 만들어 놓은것\n",
        "\n",
        "**divmod** : 몫과 나머지를 동시에 구해줌\n"
      ],
      "metadata": {
        "id": "pIyxFQ2VCWoj"
      }
    },
    {
      "cell_type": "code",
      "source": [
        "print(divmod(3,2))\n",
        "print(divmod(3,2))\n",
        "print(divmod(3,2))\n",
        "print(divmod(3,2))"
      ],
      "metadata": {
        "colab": {
          "base_uri": "https://localhost:8080/"
        },
        "id": "H6yX65hIC5o5",
        "outputId": "4b72ed44-0ebf-4089-bb68-9d97c4ee61f7"
      },
      "execution_count": null,
      "outputs": [
        {
          "output_type": "execute_result",
          "data": {
            "text/plain": [
              "(1, 1)"
            ]
          },
          "metadata": {},
          "execution_count": 33
        }
      ]
    },
    {
      "cell_type": "markdown",
      "source": [],
      "metadata": {
        "id": "vV_0mqoID2Ra"
      }
    },
    {
      "cell_type": "code",
      "source": [
        "# 아아 : 5000원 / 아샷추 : 65000\n",
        "# 아아 2잔 / 아샷추 3잔\n",
        "(5000*2)+(6500*3)"
      ],
      "metadata": {
        "colab": {
          "base_uri": "https://localhost:8080/"
        },
        "id": "6dV_MjLlBZqb",
        "outputId": "08a84b93-5d47-43d0-c77b-5c1444613d24"
      },
      "execution_count": null,
      "outputs": [
        {
          "output_type": "execute_result",
          "data": {
            "text/plain": [
              "29500"
            ]
          },
          "metadata": {},
          "execution_count": 37
        }
      ]
    },
    {
      "cell_type": "code",
      "source": [
        "(5000*2)+(6500*3)"
      ],
      "metadata": {
        "colab": {
          "base_uri": "https://localhost:8080/"
        },
        "id": "VrjUj32BFP79",
        "outputId": "c74a65a8-149c-4240-ac75-ca5e453b6d54"
      },
      "execution_count": null,
      "outputs": [
        {
          "output_type": "execute_result",
          "data": {
            "text/plain": [
              "29500"
            ]
          },
          "metadata": {},
          "execution_count": 38
        }
      ]
    },
    {
      "cell_type": "markdown",
      "source": [
        "계산된 결과값이 다 날아가는 문제~ 어떻게 해결해야 할까요?\n",
        "####변수"
      ],
      "metadata": {
        "id": "62vVn_1RFWCr"
      }
    },
    {
      "cell_type": "code",
      "source": [
        "# 하나의 값을 변수에 넣을 때\n",
        "num = 1\n",
        "print(num)\n",
        "\n",
        "# 두개의 값을 변수에 넣을 때\n",
        "num_1 , num_2 = 1, 2\n",
        "print(num_1)\n",
        "print(num_2)\n",
        "\n",
        "print(num_1, num_2)"
      ],
      "metadata": {
        "colab": {
          "base_uri": "https://localhost:8080/"
        },
        "id": "TqOx4lymkdib",
        "outputId": "89d5ed60-375c-4769-ccc6-38d6f61c31cd"
      },
      "execution_count": null,
      "outputs": [
        {
          "output_type": "stream",
          "name": "stdout",
          "text": [
            "1\n",
            "1\n",
            "2\n",
            "1 2\n"
          ]
        }
      ]
    },
    {
      "cell_type": "markdown",
      "source": [
        "#"
      ],
      "metadata": {
        "id": "NnR7l5kYlezv"
      }
    },
    {
      "cell_type": "code",
      "source": [
        "# 변수를 사용하지 않을 때\n",
        "# 이전에 계산된 결과를 저장할 수 있는 방법이 없음\n",
        "1 + 2\n",
        "1 + 2 + 3\n",
        "1 + 2 + 3 + 4\n",
        "1 + 2 + 3 + 4 + 5"
      ],
      "metadata": {
        "colab": {
          "base_uri": "https://localhost:8080/"
        },
        "id": "qLUxJm3oloTj",
        "outputId": "5d210e53-64d0-49ea-88df-fcb0d690eb01"
      },
      "execution_count": null,
      "outputs": [
        {
          "output_type": "execute_result",
          "data": {
            "text/plain": [
              "15"
            ]
          },
          "metadata": {},
          "execution_count": 8
        }
      ]
    },
    {
      "cell_type": "code",
      "source": [
        "# 변수를 사용할 때\n",
        "# 이전에 계산된 결과를 저장해서 사용할 수 있음\n",
        "sum = 1 + 2\n",
        "sum = sum + 3\n",
        "sum = sum + 4\n",
        "sum = sum + 5\n",
        "\n",
        "print(sum)"
      ],
      "metadata": {
        "colab": {
          "base_uri": "https://localhost:8080/"
        },
        "id": "gjZlmRexmXn2",
        "outputId": "7e1b3f71-bccb-42fd-c000-0ab06355baf2"
      },
      "execution_count": null,
      "outputs": [
        {
          "output_type": "stream",
          "name": "stdout",
          "text": [
            "15\n"
          ]
        }
      ]
    },
    {
      "cell_type": "markdown",
      "source": [
        "### 변수에 값을 넣는 것 => 할당\n",
        "\n",
        "sum = 1 + 2 => 1+2의 계산된 결과를 sum이라는 변수에 할당한다.\n",
        "\n",
        "sum은 변수명이고 = 은 같다는 의미가 아니라 할당(assigment)이라고 합니다.\n",
        "\n",
        "= 할당 연산자. + 산술 연산자.\n",
        "+= 샨술 후 바로 할당하는 문법.\n",
        "/=, -=, *= 모두가능."
      ],
      "metadata": {
        "id": "EvErqV4KnbC3"
      }
    },
    {
      "cell_type": "code",
      "source": [
        "# 변수를 사용하면서 사용 가능한 문법\n",
        "\n",
        "sum = 1 + 2\n",
        "sum = sum + 3\n",
        "sum = sum + 4\n",
        "sum = sum + 5\n",
        "\n",
        "print(sum)\n",
        "\n",
        "sum2= 1 + 2\n",
        "sum2 += 3\n",
        "sum2 += 4\n",
        "sum2 += 5\n",
        "\n",
        "print(sum2)"
      ],
      "metadata": {
        "colab": {
          "base_uri": "https://localhost:8080/"
        },
        "id": "e-dS_tGeoFgS",
        "outputId": "4a48baff-cc70-42ca-db42-e523e7c3bc40"
      },
      "execution_count": null,
      "outputs": [
        {
          "output_type": "stream",
          "name": "stdout",
          "text": [
            "15\n",
            "15\n"
          ]
        }
      ]
    },
    {
      "cell_type": "code",
      "source": [
        "# 주의 ! 선언되지 않은 변수를 사용할 경우 에러발생\n",
        "\n",
        "sum3 += 1\n",
        "\n",
        "sum3 = 0\n"
      ],
      "metadata": {
        "colab": {
          "base_uri": "https://localhost:8080/",
          "height": 207
        },
        "id": "RXYjbgFXot-l",
        "outputId": "7bceefe4-585b-4395-cdee-88dcc3276a40"
      },
      "execution_count": null,
      "outputs": [
        {
          "output_type": "error",
          "ename": "NameError",
          "evalue": "name 'sum3' is not defined",
          "traceback": [
            "\u001b[0;31m---------------------------------------------------------------------------\u001b[0m",
            "\u001b[0;31mNameError\u001b[0m                                 Traceback (most recent call last)",
            "\u001b[0;32m/tmp/ipython-input-3564820194.py\u001b[0m in \u001b[0;36m<cell line: 0>\u001b[0;34m()\u001b[0m\n\u001b[1;32m      1\u001b[0m \u001b[0;31m# 주의 ! 선언되지 않은 변수를 사용할 경우 에러발생\u001b[0m\u001b[0;34m\u001b[0m\u001b[0;34m\u001b[0m\u001b[0m\n\u001b[1;32m      2\u001b[0m \u001b[0;34m\u001b[0m\u001b[0m\n\u001b[0;32m----> 3\u001b[0;31m \u001b[0msum3\u001b[0m \u001b[0;34m+=\u001b[0m \u001b[0;36m1\u001b[0m\u001b[0;34m\u001b[0m\u001b[0;34m\u001b[0m\u001b[0m\n\u001b[0m\u001b[1;32m      4\u001b[0m \u001b[0;34m\u001b[0m\u001b[0m\n\u001b[1;32m      5\u001b[0m \u001b[0msum3\u001b[0m \u001b[0;34m=\u001b[0m \u001b[0;36m0\u001b[0m\u001b[0;34m\u001b[0m\u001b[0;34m\u001b[0m\u001b[0m\n",
            "\u001b[0;31mNameError\u001b[0m: name 'sum3' is not defined"
          ]
        }
      ]
    },
    {
      "cell_type": "code",
      "source": [
        "# 변수에 어떤 값도 넣지않고 선언하는 방법\n",
        "\n",
        "nothing = None\n",
        "print(None)"
      ],
      "metadata": {
        "colab": {
          "base_uri": "https://localhost:8080/"
        },
        "id": "7cyYp7Kcqt2y",
        "outputId": "4c7d8dc0-2a31-43d2-dadc-2bbb8d70ba71"
      },
      "execution_count": null,
      "outputs": [
        {
          "output_type": "stream",
          "name": "stdout",
          "text": [
            "None\n"
          ]
        }
      ]
    },
    {
      "cell_type": "code",
      "source": [
        "#대소문자를 구분하는\n",
        "BIG = \"크다\"\n",
        "big = \"작다\"\n",
        "\n",
        "print(BIG,big)"
      ],
      "metadata": {
        "colab": {
          "base_uri": "https://localhost:8080/"
        },
        "id": "hZN-jYhTrHW-",
        "outputId": "2ef3baaf-2245-4882-cb2e-cf77818e0682"
      },
      "execution_count": null,
      "outputs": [
        {
          "output_type": "stream",
          "name": "stdout",
          "text": [
            "크다 작다\n"
          ]
        }
      ]
    },
    {
      "cell_type": "code",
      "source": [
        "스네이크케이스(snake case)\n",
        "변수명 : snake_case\n",
        "\n",
        "카멜케이스(camel case)\n",
        "변수명 camel case"
      ],
      "metadata": {
        "colab": {
          "base_uri": "https://localhost:8080/",
          "height": 105
        },
        "id": "gEPQ_ACirlG0",
        "outputId": "f74283d9-611c-4d30-cc77-b10d42a0abc6"
      },
      "execution_count": null,
      "outputs": [
        {
          "output_type": "error",
          "ename": "SyntaxError",
          "evalue": "invalid syntax. Perhaps you forgot a comma? (ipython-input-4262916932.py, line 1)",
          "traceback": [
            "\u001b[0;36m  File \u001b[0;32m\"/tmp/ipython-input-4262916932.py\"\u001b[0;36m, line \u001b[0;32m1\u001b[0m\n\u001b[0;31m    스네이크케이스(snake case)\u001b[0m\n\u001b[0m            ^\u001b[0m\n\u001b[0;31mSyntaxError\u001b[0m\u001b[0;31m:\u001b[0m invalid syntax. Perhaps you forgot a comma?\n"
          ]
        }
      ]
    },
    {
      "cell_type": "code",
      "source": [
        "# 우린 변수를 만들때 스네이크케이스러 진행합니다. 그리고 언더바는 2개를 적용시켜주세요\n",
        "# 개발에 관련된 여러 조건을 명시하는 것들을 코드 컨벤션이라고합니다.\n",
        "\n",
        "box_shose = \"스니커즈\"\n",
        "box_hat = \"슈프림 모자\"\n",
        "\n",
        "print(box_shose)\n",
        "print(box_hat)"
      ],
      "metadata": {
        "colab": {
          "base_uri": "https://localhost:8080/"
        },
        "id": "1Dq-XlGjr0iZ",
        "outputId": "21312231-960c-4049-d08d-c5884bd544e6"
      },
      "execution_count": null,
      "outputs": [
        {
          "output_type": "stream",
          "name": "stdout",
          "text": [
            "스니커즈\n",
            "슈프림 모자\n"
          ]
        }
      ]
    },
    {
      "cell_type": "code",
      "source": [
        "#print() 포메팅 3가지 f-string : print(f'[변수명]')\n",
        "\n",
        "me = \"파머\"\n",
        "print(f'{me}만 빼고 고양이 다 있어')"
      ],
      "metadata": {
        "colab": {
          "base_uri": "https://localhost:8080/"
        },
        "id": "sSqqw6z362rD",
        "outputId": "aaf22260-ee36-44db-d910-b127c3290b2e"
      },
      "execution_count": null,
      "outputs": [
        {
          "output_type": "stream",
          "name": "stdout",
          "text": [
            "파머만 빼고 고양이 다 있어\n"
          ]
        }
      ]
    },
    {
      "cell_type": "code",
      "source": [
        "# 변수값 입력\n",
        "\n",
        "fish__p, fish__s, fish__j = \"붕어빵(팥)\",\"붕어빵(슈크림)\", \"붕어빵(잡채)\"\n",
        "\n",
        "order_s__pay, order_j__pay = fish__s__sell * 2, fish__j_sell *3\n",
        "\n",
        "total = order_s + order_j\n",
        "\n",
        "print(f'주문이완료되었습니다.{fish__s} {order_S}개,{fish__j}개 {order_j} 총 {total}개 결제 금액은 {total_pay}원 입니다.')"
      ],
      "metadata": {
        "colab": {
          "base_uri": "https://localhost:8080/",
          "height": 207
        },
        "id": "9u7NhPfE71Nx",
        "outputId": "0f81427e-2eb9-43e0-fc7b-4fe392786346"
      },
      "execution_count": null,
      "outputs": [
        {
          "output_type": "error",
          "ename": "NameError",
          "evalue": "name 'fish__s__sell' is not defined",
          "traceback": [
            "\u001b[0;31m---------------------------------------------------------------------------\u001b[0m",
            "\u001b[0;31mNameError\u001b[0m                                 Traceback (most recent call last)",
            "\u001b[0;32m/tmp/ipython-input-2138706697.py\u001b[0m in \u001b[0;36m<cell line: 0>\u001b[0;34m()\u001b[0m\n\u001b[1;32m      3\u001b[0m \u001b[0mfish__p\u001b[0m\u001b[0;34m,\u001b[0m \u001b[0mfish__s\u001b[0m\u001b[0;34m,\u001b[0m \u001b[0mfish__j\u001b[0m \u001b[0;34m=\u001b[0m \u001b[0;34m\"붕어빵(팥)\"\u001b[0m\u001b[0;34m,\u001b[0m\u001b[0;34m\"붕어빵(슈크림)\"\u001b[0m\u001b[0;34m,\u001b[0m \u001b[0;34m\"붕어빵(잡채)\"\u001b[0m\u001b[0;34m\u001b[0m\u001b[0;34m\u001b[0m\u001b[0m\n\u001b[1;32m      4\u001b[0m \u001b[0;34m\u001b[0m\u001b[0m\n\u001b[0;32m----> 5\u001b[0;31m \u001b[0morder_s__pay\u001b[0m\u001b[0;34m,\u001b[0m \u001b[0morder_j__pay\u001b[0m \u001b[0;34m=\u001b[0m \u001b[0mfish__s__sell\u001b[0m \u001b[0;34m*\u001b[0m \u001b[0;36m2\u001b[0m\u001b[0;34m,\u001b[0m \u001b[0mfish__j_sell\u001b[0m \u001b[0;34m*\u001b[0m\u001b[0;36m3\u001b[0m\u001b[0;34m\u001b[0m\u001b[0;34m\u001b[0m\u001b[0m\n\u001b[0m\u001b[1;32m      6\u001b[0m \u001b[0;34m\u001b[0m\u001b[0m\n\u001b[1;32m      7\u001b[0m \u001b[0mtotal\u001b[0m \u001b[0;34m=\u001b[0m \u001b[0morder_s\u001b[0m \u001b[0;34m+\u001b[0m \u001b[0morder_j\u001b[0m\u001b[0;34m\u001b[0m\u001b[0;34m\u001b[0m\u001b[0m\n",
            "\u001b[0;31mNameError\u001b[0m: name 'fish__s__sell' is not defined"
          ]
        }
      ]
    },
    {
      "cell_type": "code",
      "source": [
        "fish__ps = \"붕어빵(팥)\"\n",
        "print(fish__ps)"
      ],
      "metadata": {
        "colab": {
          "base_uri": "https://localhost:8080/",
          "height": 156
        },
        "id": "ju-mGRiAEeG3",
        "outputId": "7c5586ce-fc71-4457-ed9a-e8eb06cdb11d"
      },
      "execution_count": null,
      "outputs": [
        {
          "output_type": "error",
          "ename": "TypeError",
          "evalue": "'str' object is not callable",
          "traceback": [
            "\u001b[0;31m---------------------------------------------------------------------------\u001b[0m",
            "\u001b[0;31mTypeError\u001b[0m                                 Traceback (most recent call last)",
            "\u001b[0;32m/tmp/ipython-input-4237740463.py\u001b[0m in \u001b[0;36m<cell line: 0>\u001b[0;34m()\u001b[0m\n\u001b[1;32m      1\u001b[0m \u001b[0mfish__ps\u001b[0m \u001b[0;34m=\u001b[0m \u001b[0;34m\"붕어빵(팥)\"\u001b[0m\u001b[0;34m\u001b[0m\u001b[0;34m\u001b[0m\u001b[0m\n\u001b[0;32m----> 2\u001b[0;31m \u001b[0mprint\u001b[0m\u001b[0;34m(\u001b[0m\u001b[0mfish__ps\u001b[0m\u001b[0;34m)\u001b[0m\u001b[0;34m\u001b[0m\u001b[0;34m\u001b[0m\u001b[0m\n\u001b[0m",
            "\u001b[0;31mTypeError\u001b[0m: 'str' object is not callable"
          ]
        }
      ]
    },
    {
      "cell_type": "code",
      "source": [
        "print(f\"{fish__p}\")"
      ],
      "metadata": {
        "colab": {
          "base_uri": "https://localhost:8080/",
          "height": 139
        },
        "id": "p1vz14yZElQ1",
        "outputId": "22f82af3-426b-417d-9b57-fc8423efb760"
      },
      "execution_count": null,
      "outputs": [
        {
          "output_type": "error",
          "ename": "TypeError",
          "evalue": "'str' object is not callable",
          "traceback": [
            "\u001b[0;31m---------------------------------------------------------------------------\u001b[0m",
            "\u001b[0;31mTypeError\u001b[0m                                 Traceback (most recent call last)",
            "\u001b[0;32m/tmp/ipython-input-516048279.py\u001b[0m in \u001b[0;36m<cell line: 0>\u001b[0;34m()\u001b[0m\n\u001b[0;32m----> 1\u001b[0;31m \u001b[0mprint\u001b[0m\u001b[0;34m(\u001b[0m\u001b[0;34mf\"{fish__p}\"\u001b[0m\u001b[0;34m)\u001b[0m\u001b[0;34m\u001b[0m\u001b[0;34m\u001b[0m\u001b[0m\n\u001b[0m",
            "\u001b[0;31mTypeError\u001b[0m: 'str' object is not callable"
          ]
        }
      ]
    },
    {
      "cell_type": "markdown",
      "source": [
        "변수 : 하나의 값을 저자앟ㄹ 수 있는 공간을 생성하는 것\n",
        "\n",
        "변수명을 만들때 컨벤션\n",
        "변수를 표현하는 방법 : 스네이크, 카멜.   \n",
        "변수를 활용해서 다양한문제"
      ],
      "metadata": {
        "id": "eKWEQqAWMor3"
      }
    },
    {
      "cell_type": "code",
      "source": [
        "#1. int(integer) : 정수\n",
        "#2. float(float) : 실수\n",
        "#3. str(string) : 문자\n",
        "#4. bool(bool, boolean) : 참 또는 거짓 1 or 2\n"
      ],
      "metadata": {
        "id": "j_8Jwcn7Mcz-"
      },
      "execution_count": null,
      "outputs": []
    },
    {
      "cell_type": "markdown",
      "source": [
        "5. list\n",
        "6. tuple\n",
        "7. dict\n",
        "8. set"
      ],
      "metadata": {
        "id": "FTgywr2OQSmB"
      }
    },
    {
      "cell_type": "code",
      "source": [
        "#1. 정수 + 실수 = 실수\n",
        "\n",
        "9.0 + 3 = 12.0"
      ],
      "metadata": {
        "colab": {
          "base_uri": "https://localhost:8080/",
          "height": 105
        },
        "id": "LleqMTuYQXnd",
        "outputId": "4d08981a-f6d8-456e-b557-c848e9b0e1c6"
      },
      "execution_count": null,
      "outputs": [
        {
          "output_type": "error",
          "ename": "SyntaxError",
          "evalue": "cannot assign to expression here. Maybe you meant '==' instead of '='? (ipython-input-731907340.py, line 3)",
          "traceback": [
            "\u001b[0;36m  File \u001b[0;32m\"/tmp/ipython-input-731907340.py\"\u001b[0;36m, line \u001b[0;32m3\u001b[0m\n\u001b[0;31m    9.0 + 3 = 12.0\u001b[0m\n\u001b[0m    ^\u001b[0m\n\u001b[0;31mSyntaxError\u001b[0m\u001b[0;31m:\u001b[0m cannot assign to expression here. Maybe you meant '==' instead of '='?\n"
          ]
        }
      ]
    },
    {
      "cell_type": "code",
      "source": [
        "#box_num에 숫자만 넣자는 약속을함 누군가 한글 표기법으로 숫자를 넣음\n",
        "\n",
        "box_num=\"하나\"\n",
        "box_num+= 1\n",
        "print(box_num)"
      ],
      "metadata": {
        "colab": {
          "base_uri": "https://localhost:8080/",
          "height": 190
        },
        "id": "DyHlqn1IQsnJ",
        "outputId": "9ca92511-64bd-4444-84de-23b78b76031b"
      },
      "execution_count": null,
      "outputs": [
        {
          "output_type": "error",
          "ename": "TypeError",
          "evalue": "can only concatenate str (not \"int\") to str",
          "traceback": [
            "\u001b[0;31m---------------------------------------------------------------------------\u001b[0m",
            "\u001b[0;31mTypeError\u001b[0m                                 Traceback (most recent call last)",
            "\u001b[0;32m/tmp/ipython-input-830895159.py\u001b[0m in \u001b[0;36m<cell line: 0>\u001b[0;34m()\u001b[0m\n\u001b[1;32m      2\u001b[0m \u001b[0;34m\u001b[0m\u001b[0m\n\u001b[1;32m      3\u001b[0m \u001b[0mbox_num\u001b[0m\u001b[0;34m=\u001b[0m\u001b[0;34m\"하나\"\u001b[0m\u001b[0;34m\u001b[0m\u001b[0;34m\u001b[0m\u001b[0m\n\u001b[0;32m----> 4\u001b[0;31m \u001b[0mbox_num\u001b[0m\u001b[0;34m+=\u001b[0m \u001b[0;36m1\u001b[0m\u001b[0;34m\u001b[0m\u001b[0;34m\u001b[0m\u001b[0m\n\u001b[0m\u001b[1;32m      5\u001b[0m \u001b[0mprint\u001b[0m\u001b[0;34m(\u001b[0m\u001b[0mbox_num\u001b[0m\u001b[0;34m)\u001b[0m\u001b[0;34m\u001b[0m\u001b[0;34m\u001b[0m\u001b[0m\n",
            "\u001b[0;31mTypeError\u001b[0m: can only concatenate str (not \"int\") to str"
          ]
        }
      ]
    },
    {
      "cell_type": "code",
      "source": [
        "type(box_num)\n",
        "type(1)"
      ],
      "metadata": {
        "colab": {
          "base_uri": "https://localhost:8080/"
        },
        "id": "dTSozVplRL8Q",
        "outputId": "662c5161-1039-4efe-e176-92967e72755f"
      },
      "execution_count": null,
      "outputs": [
        {
          "output_type": "execute_result",
          "data": {
            "text/plain": [
              "int"
            ]
          },
          "metadata": {},
          "execution_count": 73
        }
      ]
    },
    {
      "cell_type": "code",
      "source": [
        "# 2여야 하는데 2.0으로 출력될때 형벼환\n",
        "# 말그대로 형태를 변형한다\n",
        "\n",
        "# int float\n",
        "#int -> float ex) 5->5.0.  float(5)"
      ],
      "metadata": {
        "id": "p-hQ569pRkZ0"
      },
      "execution_count": null,
      "outputs": []
    },
    {
      "cell_type": "code",
      "source": [
        "print(float(5))\n",
        "print(int(5.0))"
      ],
      "metadata": {
        "colab": {
          "base_uri": "https://localhost:8080/",
          "height": 156
        },
        "id": "hTRD2vKWR2Vt",
        "outputId": "16f9db10-d825-452d-d6ac-414ae9637e9d"
      },
      "execution_count": null,
      "outputs": [
        {
          "output_type": "error",
          "ename": "TypeError",
          "evalue": "'str' object is not callable",
          "traceback": [
            "\u001b[0;31m---------------------------------------------------------------------------\u001b[0m",
            "\u001b[0;31mTypeError\u001b[0m                                 Traceback (most recent call last)",
            "\u001b[0;32m/tmp/ipython-input-880411888.py\u001b[0m in \u001b[0;36m<cell line: 0>\u001b[0;34m()\u001b[0m\n\u001b[0;32m----> 1\u001b[0;31m \u001b[0mprint\u001b[0m\u001b[0;34m(\u001b[0m\u001b[0mfloat\u001b[0m\u001b[0;34m(\u001b[0m\u001b[0;36m5\u001b[0m\u001b[0;34m)\u001b[0m\u001b[0;34m)\u001b[0m\u001b[0;34m\u001b[0m\u001b[0;34m\u001b[0m\u001b[0m\n\u001b[0m\u001b[1;32m      2\u001b[0m \u001b[0mprint\u001b[0m\u001b[0;34m(\u001b[0m\u001b[0mint\u001b[0m\u001b[0;34m(\u001b[0m\u001b[0;36m5.0\u001b[0m\u001b[0;34m)\u001b[0m\u001b[0;34m)\u001b[0m\u001b[0;34m\u001b[0m\u001b[0;34m\u001b[0m\u001b[0m\n",
            "\u001b[0;31mTypeError\u001b[0m: 'str' object is not callable"
          ]
        }
      ]
    },
    {
      "cell_type": "code",
      "source": [
        "나이 = 10\n",
        "type(나이)\n",
        "print(dir(나이))"
      ],
      "metadata": {
        "colab": {
          "base_uri": "https://localhost:8080/",
          "height": 173
        },
        "id": "TrjsAmxfSLmJ",
        "outputId": "44a05edf-0755-44af-b540-edd4608fe2af"
      },
      "execution_count": null,
      "outputs": [
        {
          "output_type": "error",
          "ename": "TypeError",
          "evalue": "'str' object is not callable",
          "traceback": [
            "\u001b[0;31m---------------------------------------------------------------------------\u001b[0m",
            "\u001b[0;31mTypeError\u001b[0m                                 Traceback (most recent call last)",
            "\u001b[0;32m/tmp/ipython-input-4268020803.py\u001b[0m in \u001b[0;36m<cell line: 0>\u001b[0;34m()\u001b[0m\n\u001b[1;32m      1\u001b[0m \u001b[0m나이\u001b[0m \u001b[0;34m=\u001b[0m \u001b[0;36m10\u001b[0m\u001b[0;34m\u001b[0m\u001b[0;34m\u001b[0m\u001b[0m\n\u001b[1;32m      2\u001b[0m \u001b[0mtype\u001b[0m\u001b[0;34m(\u001b[0m\u001b[0m나이\u001b[0m\u001b[0;34m)\u001b[0m\u001b[0;34m\u001b[0m\u001b[0;34m\u001b[0m\u001b[0m\n\u001b[0;32m----> 3\u001b[0;31m \u001b[0mprint\u001b[0m\u001b[0;34m(\u001b[0m\u001b[0mdir\u001b[0m\u001b[0;34m(\u001b[0m\u001b[0m나이\u001b[0m\u001b[0;34m)\u001b[0m\u001b[0;34m)\u001b[0m\u001b[0;34m\u001b[0m\u001b[0;34m\u001b[0m\u001b[0m\n\u001b[0m",
            "\u001b[0;31mTypeError\u001b[0m: 'str' object is not callable"
          ]
        }
      ]
    },
    {
      "cell_type": "markdown",
      "source": [
        "Python 3.13.7 (v3.13.7:bcee1c32211, Aug 14 2025, 19:10:51) [Clang 16.0.0 (clang-1600.0.26.6)] on darwin\n",
        "Enter \"help\" below or click \"Help\" above for more information.\n",
        "fish__p = \"붕어빵(팥)\"\n",
        "print(fish__p)\n",
        "붕어빵(팥)\n",
        "나이=10\n",
        "type(나이)\n",
        "<class 'int'>\n",
        "print(dir(나이))\n",
        "['__abs__', '__add__', '__and__', '__bool__', '__ceil__', '__class__', '__delattr__', '__dir__', '__divmod__', '__doc__', '__eq__', '__float__', '__floor__', '__floordiv__', '__format__', '__ge__', '__getattribute__', '__getnewargs__', '__getstate__', '__gt__', '__hash__', '__index__', '__init__', '__init_subclass__', '__int__', '__invert__', '__le__', '__lshift__', '__lt__', '__mod__', '__mul__', '__ne__', '__neg__', '__new__', '__or__', '__pos__', '__pow__', '__radd__', '__rand__', '__rdivmod__', '__reduce__', '__reduce_ex__', '__repr__', '__rfloordiv__', '__rlshift__', '__rmod__', '__rmul__', '__ror__', '__round__', '__rpow__', '__rrshift__', '__rshift__', '__rsub__', '__rtruediv__', '__rxor__', '__setattr__', '__sizeof__', '__str__', '__sub__', '__subclasshook__', '__truediv__', '__trunc__', '__xor__', 'as_integer_ratio', 'bit_count', 'bit_length', 'conjugate', 'denominator', 'from_bytes', 'imag', 'is_integer', 'numerator', 'real', 'to_bytes']\n",
        "print(나이,bit_length())\n",
        "Traceback (most recent call last):\n",
        "  File \"<pyshell#5>\", line 1, in <module>\n",
        "    print(나이,bit_length())\n",
        "NameError: name 'bit_length' is not defined\n",
        "pritn(나이.bit_length())\n",
        "Traceback (most recent call last):\n",
        "  File \"<pyshell#6>\", line 1, in <module>\n",
        "    pritn(나이.bit_length())\n",
        "NameError: name 'pritn' is not defined. Did you mean: 'print'?\n",
        "print(bin(나이))\n",
        "0b1010"
      ],
      "metadata": {
        "id": "1E_6wXoMTAWK"
      }
    }
  ]
}
