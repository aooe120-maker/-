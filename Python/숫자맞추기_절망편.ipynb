{
  "nbformat": 4,
  "nbformat_minor": 0,
  "metadata": {
    "colab": {
      "provenance": [],
      "authorship_tag": "ABX9TyOKtxA7yQ+v+O/N6WGp5A9X",
      "include_colab_link": true
    },
    "kernelspec": {
      "name": "python3",
      "display_name": "Python 3"
    },
    "language_info": {
      "name": "python"
    }
  },
  "cells": [
    {
      "cell_type": "markdown",
      "metadata": {
        "id": "view-in-github",
        "colab_type": "text"
      },
      "source": [
        "<a href=\"https://colab.research.google.com/github/aooe120-maker/-/blob/main/%EC%88%AB%EC%9E%90%EB%A7%9E%EC%B6%94%EA%B8%B0_%EC%A0%88%EB%A7%9D%ED%8E%B8.ipynb\" target=\"_parent\"><img src=\"https://colab.research.google.com/assets/colab-badge.svg\" alt=\"Open In Colab\"/></a>"
      ]
    },
    {
      "cell_type": "code",
      "execution_count": 25,
      "metadata": {
        "colab": {
          "base_uri": "https://localhost:8080/"
        },
        "id": "HPSoKo_zeum2",
        "outputId": "2f24b2b6-b2f2-4ef9-ceed-ecae07299cfb"
      },
      "outputs": [
        {
          "output_type": "stream",
          "name": "stdout",
          "text": [
            "숫자 맞추기 게임에 오신 것을 환영합니다!\n",
            "컴퓨터가 1부터 10 사이의 숫자를 선택했습니다.\n",
            "그 숫자를 맞춰보세요!\n",
            "생성된 랜덤 숫자 : 3\n",
            "1~10의 숫자를 맞춰보세요 4\n",
            "틀렸습니다 더 작은숫자입니다.\n",
            "게임이 끝났습니다 다음에 또 도전하세요!\n"
          ]
        }
      ],
      "source": [
        "import random # random가져오기\n",
        "\n",
        "print(\"숫자 맞추기 게임에 오신 것을 환영합니다!\")\n",
        "print(\"컴퓨터가 1부터 10 사이의 숫자를 선택했습니다.\")\n",
        "print(\"그 숫자를 맞춰보세요!\")\n",
        "\n",
        "secret_number = random.randint(1,10)\n",
        "print(f\"생성된 랜덤 숫자 : {secret_number}\")\n",
        "attempts = 0\n",
        "\n",
        "\n",
        "While True\n",
        "guess = int(input(\"1~10의 숫자를 맞춰보세요\")) # Convert input to integer\n",
        "\n",
        "attempts += 1\n",
        "\n",
        "if guess == secret_number:\n",
        "    print(\"정답입니다. 당신은 천재입니까?\")\n",
        "    print(f\"총{attempts}번 만에 맞췄습니다\")\n",
        "\n",
        "elif guess < secret_number:\n",
        "    print(\"틀렸습니다 정답은 더 큰숫자입니다\")\n",
        "elif guess > secret_number: # Added condition\n",
        "    print(f\"틀렸습니다 더 작은숫자입니다.\")\n",
        "\n",
        "print(\"게임이 끝났습니다 다음에 또 도전하세요!\")"
      ]
    },
    {
      "cell_type": "code",
      "source": [],
      "metadata": {
        "id": "WqCX6NGAi4c1"
      },
      "execution_count": null,
      "outputs": []
    }
  ]
}
