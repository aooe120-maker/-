{
  "nbformat": 4,
  "nbformat_minor": 0,
  "metadata": {
    "colab": {
      "provenance": [],
      "authorship_tag": "ABX9TyP0voWiZHRZuBMVdruK9sWf",
      "include_colab_link": true
    },
    "kernelspec": {
      "name": "python3",
      "display_name": "Python 3"
    },
    "language_info": {
      "name": "python"
    }
  },
  "cells": [
    {
      "cell_type": "markdown",
      "metadata": {
        "id": "view-in-github",
        "colab_type": "text"
      },
      "source": [
        "<a href=\"https://colab.research.google.com/github/aooe120-maker/-/blob/main/Python2%EC%9D%BC%EC%B0%A8_02.ipynb\" target=\"_parent\"><img src=\"https://colab.research.google.com/assets/colab-badge.svg\" alt=\"Open In Colab\"/></a>"
      ]
    },
    {
      "cell_type": "code",
      "execution_count": 15,
      "metadata": {
        "id": "sSIaj_VzNkYG"
      },
      "outputs": [],
      "source": [
        "이름 = \"김오즈\"\n",
        "나이 = 30\n",
        "키 = 180.3\n",
        "소속 = \"s매지기 서울북부\""
      ]
    },
    {
      "cell_type": "code",
      "source": [],
      "metadata": {
        "id": "gJic4RjhPpor"
      },
      "execution_count": null,
      "outputs": []
    },
    {
      "cell_type": "code",
      "source": [
        "print(type(이름))\n",
        "print(type(나이))\n",
        "print(type(키))\n",
        "print(type(소속))\n"
      ],
      "metadata": {
        "colab": {
          "base_uri": "https://localhost:8080/"
        },
        "id": "ZMrNVS84N1U1",
        "outputId": "28502425-1696-4861-f5e2-895c7adbad04"
      },
      "execution_count": 5,
      "outputs": [
        {
          "output_type": "stream",
          "name": "stdout",
          "text": [
            "<class 'str'>\n",
            "<class 'int'>\n",
            "<class 'float'>\n",
            "<class 'str'>\n"
          ]
        }
      ]
    },
    {
      "cell_type": "code",
      "source": [
        "print(float(5))\n",
        "print(int(5.0))\n",
        "print(\"5\", \"5.0\")\n",
        "print(type(\"5\")), type(\"5.0\")"
      ],
      "metadata": {
        "colab": {
          "base_uri": "https://localhost:8080/"
        },
        "id": "R_HJm6otNr3a",
        "outputId": "024b4ec6-ca4d-432e-e819-eb1f04c41205"
      },
      "execution_count": 7,
      "outputs": [
        {
          "output_type": "stream",
          "name": "stdout",
          "text": [
            "5.0\n",
            "5\n",
            "5 5.0\n",
            "<class 'str'>\n"
          ]
        },
        {
          "output_type": "execute_result",
          "data": {
            "text/plain": [
              "(None, str)"
            ]
          },
          "metadata": {},
          "execution_count": 7
        }
      ]
    },
    {
      "cell_type": "markdown",
      "source": [
        "str:문자열\n",
        "특징:시퀀스자료형\n",
        "시퀀스란? 요소들이 연속적으로 이어진 자료형\n",
        "값 하나하나를 요소라고 합니다."
      ],
      "metadata": {
        "id": "Kg-Fc5WlOnBK"
      }
    },
    {
      "cell_type": "code",
      "source": [
        "print(소속)\n",
        "print(소속[0])\n",
        "print(소속[1])\n",
        "print(소속[2])\n",
        "print(소속[3])\n",
        "print(소속[4])\n",
        "print(소속[5])\n",
        "print(소속[6])\n",
        "#0인덱스\n"
      ],
      "metadata": {
        "colab": {
          "base_uri": "https://localhost:8080/"
        },
        "id": "-CD5Xl9nOIjj",
        "outputId": "7e978668-525a-4d08-f2be-289662a355c7"
      },
      "execution_count": 10,
      "outputs": [
        {
          "output_type": "stream",
          "name": "stdout",
          "text": [
            "s매지기 서울북부\n",
            "s\n",
            "매\n",
            "지\n",
            "기\n",
            " \n",
            "서\n",
            "울\n"
          ]
        }
      ]
    },
    {
      "cell_type": "code",
      "source": [
        "\"매\" in 소속\n",
        "\"3\" in 소속"
      ],
      "metadata": {
        "colab": {
          "base_uri": "https://localhost:8080/"
        },
        "id": "dPlBgiCCPBZu",
        "outputId": "0d2c4d52-0845-4172-dfd9-4070d860bcf0"
      },
      "execution_count": 12,
      "outputs": [
        {
          "output_type": "execute_result",
          "data": {
            "text/plain": [
              "False"
            ]
          },
          "metadata": {},
          "execution_count": 12
        }
      ]
    },
    {
      "cell_type": "code",
      "source": [
        "# 문자열 즉 시퀀스 끼리 합치기\n",
        "\n",
        "\"13\" + \"금요일\""
      ],
      "metadata": {
        "colab": {
          "base_uri": "https://localhost:8080/",
          "height": 35
        },
        "id": "BquMIRl3O6J5",
        "outputId": "1a7bdfab-743d-4ba8-c831-de3700067215"
      },
      "execution_count": 13,
      "outputs": [
        {
          "output_type": "execute_result",
          "data": {
            "text/plain": [
              "'13금요일'"
            ],
            "application/vnd.google.colaboratory.intrinsic+json": {
              "type": "string"
            }
          },
          "metadata": {},
          "execution_count": 13
        }
      ]
    },
    {
      "cell_type": "code",
      "source": [
        "#  복사가 가능합니다\n",
        "옛날게임 = \"바니바니 당근당근\" *20\n",
        "print(옛날게임)\n",
        "\n",
        "퀴즈 = \"차 4대가 고장나면? 카포에라\""
      ],
      "metadata": {
        "colab": {
          "base_uri": "https://localhost:8080/"
        },
        "id": "w53ttlMLO1q-",
        "outputId": "ef6b21c1-97b4-4b50-8daf-79ba175e68d4"
      },
      "execution_count": 19,
      "outputs": [
        {
          "output_type": "stream",
          "name": "stdout",
          "text": [
            "바니바니 당근당근바니바니 당근당근바니바니 당근당근바니바니 당근당근바니바니 당근당근바니바니 당근당근바니바니 당근당근바니바니 당근당근바니바니 당근당근바니바니 당근당근바니바니 당근당근바니바니 당근당근바니바니 당근당근바니바니 당근당근바니바니 당근당근바니바니 당근당근바니바니 당근당근바니바니 당근당근바니바니 당근당근바니바니 당근당근\n"
          ]
        }
      ]
    },
    {
      "cell_type": "code",
      "source": [
        "퀴즈 = \"차 4대가 고장나면? 카포에라\"\n",
        "print(퀴즈[12:16])\n",
        "print(퀴즈[12:15])"
      ],
      "metadata": {
        "colab": {
          "base_uri": "https://localhost:8080/"
        },
        "id": "_qQHDRQpQY2q",
        "outputId": "75082d55-f0e0-4ad1-9dc0-3aa0bb2991d5"
      },
      "execution_count": 20,
      "outputs": [
        {
          "output_type": "stream",
          "name": "stdout",
          "text": [
            "카포에라\n",
            "카포에\n"
          ]
        }
      ]
    },
    {
      "cell_type": "code",
      "source": [
        "퀴즈[15]\n",
        "퀴즈[-1]"
      ],
      "metadata": {
        "colab": {
          "base_uri": "https://localhost:8080/",
          "height": 35
        },
        "id": "U8YgWIC3Qi_r",
        "outputId": "02becf3d-6df3-4dd0-d8c0-4518d8b4ef83"
      },
      "execution_count": 21,
      "outputs": [
        {
          "output_type": "execute_result",
          "data": {
            "text/plain": [
              "'라'"
            ],
            "application/vnd.google.colaboratory.intrinsic+json": {
              "type": "string"
            }
          },
          "metadata": {},
          "execution_count": 21
        }
      ]
    },
    {
      "cell_type": "code",
      "source": [
        "생년월일 = \"2000.12.25\"\n",
        "\n",
        "#2000 12 25\n",
        "\n",
        "년 = 생년월일[0:4]\n",
        "월 = 생년월일[5:7]\n",
        "일 = 생년월일[8:11]\n",
        "print(f'{년},{월},{일}')"
      ],
      "metadata": {
        "colab": {
          "base_uri": "https://localhost:8080/"
        },
        "id": "U-ytPwlkQseb",
        "outputId": "ef0d3b50-2967-4fee-fe89-46b904ab6941"
      },
      "execution_count": 26,
      "outputs": [
        {
          "output_type": "stream",
          "name": "stdout",
          "text": [
            "2000,12,25\n"
          ]
        }
      ]
    },
    {
      "cell_type": "code",
      "source": [
        "숫자 = \"12314235423534623\"\n",
        "# 전체 출력\n",
        "print(숫자[::])\n",
        "\n",
        "#전체출력\n",
        "print(숫자[::-1])\n",
        "\n",
        "#첛번째 인덱스 기준으로 2칸씩 ㅅ띄어쓰기 출력하기\n",
        "print(숫자[::2])\n",
        "print(숫자[4:1:-1])"
      ],
      "metadata": {
        "colab": {
          "base_uri": "https://localhost:8080/"
        },
        "id": "eBIM6LlyQ8qZ",
        "outputId": "cf0bf83e-ea30-4415-ba4e-ad7e11a33c2f"
      },
      "execution_count": 31,
      "outputs": [
        {
          "output_type": "stream",
          "name": "stdout",
          "text": [
            "12314235423534623\n",
            "32643532453241321\n",
            "134343363\n",
            "413\n"
          ]
        }
      ]
    },
    {
      "cell_type": "code",
      "source": [
        "퀴즈 = \"스님이 공중에 뜬다를 4글자로 말하면? 어중이떠중이\"\n",
        "print(퀴즈[22:28])"
      ],
      "metadata": {
        "colab": {
          "base_uri": "https://localhost:8080/"
        },
        "id": "nRZicLkfQ7CX",
        "outputId": "51e06b5f-fb89-4197-d968-c19ebaca067b"
      },
      "execution_count": 32,
      "outputs": [
        {
          "output_type": "stream",
          "name": "stdout",
          "text": [
            "어중이떠중이\n"
          ]
        }
      ]
    },
    {
      "cell_type": "code",
      "source": [
        "과자 = \"apple\"\n",
        "과자.count(\"p\")"
      ],
      "metadata": {
        "colab": {
          "base_uri": "https://localhost:8080/"
        },
        "id": "80Tg5GwpSAH3",
        "outputId": "b8e47098-e34f-45a0-e390-3307a5ed4eaa"
      },
      "execution_count": 33,
      "outputs": [
        {
          "output_type": "execute_result",
          "data": {
            "text/plain": [
              "2"
            ]
          },
          "metadata": {},
          "execution_count": 33
        }
      ]
    },
    {
      "cell_type": "code",
      "source": [
        "과자[2]\n",
        "과자.index(\"p\")"
      ],
      "metadata": {
        "colab": {
          "base_uri": "https://localhost:8080/"
        },
        "id": "ga37rgr0SIVv",
        "outputId": "56e2993f-a565-49f2-d892-7482f1a5bf54"
      },
      "execution_count": 36,
      "outputs": [
        {
          "output_type": "execute_result",
          "data": {
            "text/plain": [
              "1"
            ]
          },
          "metadata": {},
          "execution_count": 36
        }
      ]
    },
    {
      "cell_type": "code",
      "source": [
        "라라랜드 = \"사람들은 다른 사람들의 열정에 끌리게 되어있어 자신이 잊은 걸 상기시켜 주니까\"\n",
        "\n",
        "print(라라랜드[4:10])"
      ],
      "metadata": {
        "colab": {
          "base_uri": "https://localhost:8080/"
        },
        "id": "sofuj_ssSSjc",
        "outputId": "f541c36b-3fcb-49a0-bfb0-397eb92189d4"
      },
      "execution_count": 38,
      "outputs": [
        {
          "output_type": "stream",
          "name": "stdout",
          "text": [
            " 다른 사람\n"
          ]
        }
      ]
    },
    {
      "cell_type": "code",
      "source": [
        "#bool의 쇼타임 시작됩니다.\n",
        "# 주의할점 True true  False x false\n",
        "# 부등호\n",
        "3>1\n",
        "3 == 1\n",
        "3 == 3\n",
        "20 != 5\n",
        "20 != 20"
      ],
      "metadata": {
        "colab": {
          "base_uri": "https://localhost:8080/"
        },
        "id": "KkgnS3Q3SpXq",
        "outputId": "9b90c679-8828-49e2-b0c3-6b86df916947"
      },
      "execution_count": 45,
      "outputs": [
        {
          "output_type": "execute_result",
          "data": {
            "text/plain": [
              "False"
            ]
          },
          "metadata": {},
          "execution_count": 45
        }
      ]
    },
    {
      "cell_type": "code",
      "source": [
        "#문자열 비교\n",
        "\"python\" == \"Python\"\n",
        "\"Python\" == \"Python\"\n",
        "\"Python\" != \"python\""
      ],
      "metadata": {
        "colab": {
          "base_uri": "https://localhost:8080/"
        },
        "id": "O1EY5lXvTRrj",
        "outputId": "b51bbbc5-20fe-44d1-d32e-264a318f67e1"
      },
      "execution_count": 46,
      "outputs": [
        {
          "output_type": "execute_result",
          "data": {
            "text/plain": [
              "True"
            ]
          },
          "metadata": {},
          "execution_count": 46
        }
      ]
    },
    {
      "cell_type": "code",
      "source": [
        "5 >= 5\n",
        "5 < 4\n",
        "# 부등호"
      ],
      "metadata": {
        "colab": {
          "base_uri": "https://localhost:8080/"
        },
        "id": "QnMmn6CYTheZ",
        "outputId": "7a695ad2-7283-4423-f7a5-e41ac73522dc"
      },
      "execution_count": 49,
      "outputs": [
        {
          "output_type": "execute_result",
          "data": {
            "text/plain": [
              "False"
            ]
          },
          "metadata": {},
          "execution_count": 49
        }
      ]
    },
    {
      "cell_type": "code",
      "source": [
        "#중요 ,  ==, is\n",
        "\n",
        "3 is 3\n",
        "3 == 3\n",
        "\n",
        "3.0 = 3\n",
        "3.0 is 3\n",
        "\n",
        "print(id(3.0))\n",
        "print(id(3))"
      ],
      "metadata": {
        "colab": {
          "base_uri": "https://localhost:8080/",
          "height": 105
        },
        "id": "ECEsHrS4Todj",
        "outputId": "2d66663c-1dbf-4204-814f-6cc34c53dbb5"
      },
      "execution_count": 54,
      "outputs": [
        {
          "output_type": "error",
          "ename": "SyntaxError",
          "evalue": "cannot assign to literal here. Maybe you meant '==' instead of '='? (ipython-input-2321504159.py, line 6)",
          "traceback": [
            "\u001b[0;36m  File \u001b[0;32m\"/tmp/ipython-input-2321504159.py\"\u001b[0;36m, line \u001b[0;32m6\u001b[0m\n\u001b[0;31m    3.0 = 3\u001b[0m\n\u001b[0m    ^\u001b[0m\n\u001b[0;31mSyntaxError\u001b[0m\u001b[0;31m:\u001b[0m cannot assign to literal here. Maybe you meant '==' instead of '='?\n"
          ]
        }
      ]
    },
    {
      "cell_type": "markdown",
      "source": [
        "미션 : 값 비교에는 is 를 쓰면안되는데 그이유를 찾아서 기술 블로그에 작성해보세요"
      ],
      "metadata": {
        "id": "R8VKY2xET866"
      }
    },
    {
      "cell_type": "code",
      "source": [
        "# 본격적인 논리연사자\n",
        "# True : 1 / False : 0\n",
        "True or True # 1+1=1\n",
        "True or False # 1+0=0\n",
        "False or True # 0+1=0\n",
        "False or False #0+0=0"
      ],
      "metadata": {
        "colab": {
          "base_uri": "https://localhost:8080/"
        },
        "id": "BumSVVxPT73o",
        "outputId": "913c8319-47e5-4c02-e0f2-ae34ee3173b8"
      },
      "execution_count": 56,
      "outputs": [
        {
          "output_type": "execute_result",
          "data": {
            "text/plain": [
              "False"
            ]
          },
          "metadata": {},
          "execution_count": 56
        }
      ]
    },
    {
      "cell_type": "code",
      "source": [
        "# not\n",
        "\n",
        "not True\n",
        "\n",
        "not False"
      ],
      "metadata": {
        "colab": {
          "base_uri": "https://localhost:8080/"
        },
        "id": "oj5AKGA0VMzd",
        "outputId": "16383761-14a1-4467-b9fa-c71181bcb7ab"
      },
      "execution_count": 57,
      "outputs": [
        {
          "output_type": "execute_result",
          "data": {
            "text/plain": [
              "True"
            ]
          },
          "metadata": {},
          "execution_count": 57
        }
      ]
    },
    {
      "cell_type": "code",
      "source": [
        "# 점점 복잡해지는 조건들!\n",
        "\n",
        "10 == 12 or 6 != 2\n",
        "2 > 5 and 7==7\n",
        "not 14 <= 15\n",
        "not 7 is 7.0"
      ],
      "metadata": {
        "id": "qUA8MoQgVo5_"
      },
      "execution_count": null,
      "outputs": []
    },
    {
      "cell_type": "code",
      "source": [
        "#문자열 ??  너 뭐야 true 야?\n",
        "\n",
        "bool(\"힘들어요 여러분\")\n"
      ],
      "metadata": {
        "colab": {
          "base_uri": "https://localhost:8080/"
        },
        "id": "u5XFMF31WNG6",
        "outputId": "ae435b51-ddd1-4b53-ea38-c00c32c37c81"
      },
      "execution_count": 60,
      "outputs": [
        {
          "output_type": "execute_result",
          "data": {
            "text/plain": [
              "True"
            ]
          },
          "metadata": {},
          "execution_count": 60
        }
      ]
    },
    {
      "cell_type": "code",
      "source": [
        "# 굉장히 중요한 내용\n",
        "# 단락 평가\n",
        "print(False and True)\n",
        "print(False and \"힘들어요\")\n",
        "\n",
        "print(True and False)\n",
        "\n",
        "print(True and '힘들어요')"
      ],
      "metadata": {
        "colab": {
          "base_uri": "https://localhost:8080/"
        },
        "id": "h6mmwDH4WT12",
        "outputId": "30dbf7d4-e774-4fc9-a7f4-27fc84a57117"
      },
      "execution_count": 65,
      "outputs": [
        {
          "output_type": "stream",
          "name": "stdout",
          "text": [
            "False\n",
            "False\n",
            "False\n",
            "힘들어요\n"
          ]
        }
      ]
    }
  ]
}