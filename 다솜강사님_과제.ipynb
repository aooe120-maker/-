{
  "nbformat": 4,
  "nbformat_minor": 0,
  "metadata": {
    "colab": {
      "provenance": [],
      "authorship_tag": "ABX9TyOj6/1jBqy0CgEatXi/qmBo",
      "include_colab_link": true
    },
    "kernelspec": {
      "name": "python3",
      "display_name": "Python 3"
    },
    "language_info": {
      "name": "python"
    }
  },
  "cells": [
    {
      "cell_type": "markdown",
      "metadata": {
        "id": "view-in-github",
        "colab_type": "text"
      },
      "source": [
        "<a href=\"https://colab.research.google.com/github/aooe120-maker/-/blob/main/%EB%8B%A4%EC%86%9C%EA%B0%95%EC%82%AC%EB%8B%98_%EA%B3%BC%EC%A0%9C.ipynb\" target=\"_parent\"><img src=\"https://colab.research.google.com/assets/colab-badge.svg\" alt=\"Open In Colab\"/></a>"
      ]
    },
    {
      "cell_type": "code",
      "execution_count": 8,
      "metadata": {
        "colab": {
          "base_uri": "https://localhost:8080/"
        },
        "id": "mM5ryOXA3-fz",
        "outputId": "0b7d780d-c716-43f5-a23d-a1546371019d"
      },
      "outputs": [
        {
          "output_type": "stream",
          "name": "stdout",
          "text": [
            "h\n",
            "n\n"
          ]
        }
      ],
      "source": [
        "# 1번\n",
        "word = \"Python\"\n",
        "print(word[3])\n",
        "print(word[5])"
      ]
    },
    {
      "cell_type": "code",
      "source": [
        "# 2번\n",
        "numbers = [10, 20, 30, 40, 50]\n",
        "print(numbers[2])\n",
        "print(numbers[0])"
      ],
      "metadata": {
        "colab": {
          "base_uri": "https://localhost:8080/"
        },
        "id": "22G_XpET4v8I",
        "outputId": "c4189747-2911-4740-d693-90c3f3ca1cef"
      },
      "execution_count": 11,
      "outputs": [
        {
          "output_type": "stream",
          "name": "stdout",
          "text": [
            "30\n",
            "10\n"
          ]
        }
      ]
    },
    {
      "cell_type": "code",
      "source": [
        "# 3번\n",
        "text = \"Python\"\n",
        "print(text[0:3])\n",
        "print(text[2:6])"
      ],
      "metadata": {
        "colab": {
          "base_uri": "https://localhost:8080/"
        },
        "id": "eQQJPqFs5OHD",
        "outputId": "cf880e2a-2c81-4160-ee01-a9717ef1d404"
      },
      "execution_count": 18,
      "outputs": [
        {
          "output_type": "stream",
          "name": "stdout",
          "text": [
            "Pyt\n",
            "thon\n"
          ]
        }
      ]
    },
    {
      "cell_type": "code",
      "source": [
        "# 4번\n",
        "data = [10, 20, 30, 40, 50]\n",
        "print(data[1:4])\n",
        "print(data[::-1])"
      ],
      "metadata": {
        "colab": {
          "base_uri": "https://localhost:8080/"
        },
        "id": "HNuJU4rs5qGP",
        "outputId": "5eaa7002-64b9-4b91-982d-12cea72bf1f9"
      },
      "execution_count": 22,
      "outputs": [
        {
          "output_type": "stream",
          "name": "stdout",
          "text": [
            "[20, 30, 40]\n",
            "[50, 40, 30, 20, 10]\n"
          ]
        }
      ]
    },
    {
      "cell_type": "markdown",
      "source": [],
      "metadata": {
        "id": "NvKMgSeu4EKp"
      }
    }
  ]
}